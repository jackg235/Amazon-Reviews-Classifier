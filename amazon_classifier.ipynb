{
 "cells": [
  {
   "cell_type": "markdown",
   "metadata": {},
   "source": [
    "# Amazon Reviews Classifier\n",
    "Training set: text from 100,000 reviews from Amazon.com, their timestamps, and their star ratings.\n",
    "\n",
    "Goal: use the textual and temporal data to predict the star ratings using gensim\n",
    "\n",
    "See README for more details. "
   ]
  },
  {
   "cell_type": "code",
   "execution_count": 1,
   "metadata": {},
   "outputs": [
    {
     "name": "stdout",
     "output_type": "stream",
     "text": [
      "Requirement already satisfied: gensim in /opt/conda/lib/python3.6/site-packages (3.7.3)\n",
      "Requirement already satisfied: numpy>=1.11.3 in /opt/conda/lib/python3.6/site-packages (from gensim) (1.15.4)\n",
      "Requirement already satisfied: six>=1.5.0 in /opt/conda/lib/python3.6/site-packages (from gensim) (1.12.0)\n",
      "Requirement already satisfied: smart-open>=1.7.0 in /opt/conda/lib/python3.6/site-packages (from gensim) (1.8.3)\n",
      "Requirement already satisfied: scipy>=0.18.1 in /opt/conda/lib/python3.6/site-packages (from gensim) (1.1.0)\n",
      "Requirement already satisfied: requests in /opt/conda/lib/python3.6/site-packages (from smart-open>=1.7.0->gensim) (2.21.0)\n",
      "Requirement already satisfied: boto3 in /opt/conda/lib/python3.6/site-packages (from smart-open>=1.7.0->gensim) (1.9.156)\n",
      "Requirement already satisfied: boto>=2.32 in /opt/conda/lib/python3.6/site-packages (from smart-open>=1.7.0->gensim) (2.49.0)\n",
      "Requirement already satisfied: idna<2.9,>=2.5 in /opt/conda/lib/python3.6/site-packages (from requests->smart-open>=1.7.0->gensim) (2.8)\n",
      "Requirement already satisfied: certifi>=2017.4.17 in /opt/conda/lib/python3.6/site-packages (from requests->smart-open>=1.7.0->gensim) (2018.11.29)\n",
      "Requirement already satisfied: urllib3<1.25,>=1.21.1 in /opt/conda/lib/python3.6/site-packages (from requests->smart-open>=1.7.0->gensim) (1.24.1)\n",
      "Requirement already satisfied: chardet<3.1.0,>=3.0.2 in /opt/conda/lib/python3.6/site-packages (from requests->smart-open>=1.7.0->gensim) (3.0.4)\n",
      "Requirement already satisfied: botocore<1.13.0,>=1.12.156 in /opt/conda/lib/python3.6/site-packages (from boto3->smart-open>=1.7.0->gensim) (1.12.156)\n",
      "Requirement already satisfied: s3transfer<0.3.0,>=0.2.0 in /opt/conda/lib/python3.6/site-packages (from boto3->smart-open>=1.7.0->gensim) (0.2.0)\n",
      "Requirement already satisfied: jmespath<1.0.0,>=0.7.1 in /opt/conda/lib/python3.6/site-packages (from boto3->smart-open>=1.7.0->gensim) (0.9.4)\n",
      "Requirement already satisfied: docutils>=0.10 in /opt/conda/lib/python3.6/site-packages (from botocore<1.13.0,>=1.12.156->boto3->smart-open>=1.7.0->gensim) (0.14)\n",
      "Requirement already satisfied: python-dateutil<3.0.0,>=2.1; python_version >= \"2.7\" in /opt/conda/lib/python3.6/site-packages (from botocore<1.13.0,>=1.12.156->boto3->smart-open>=1.7.0->gensim) (2.7.5)\n",
      "Requirement already satisfied: paramiko in /opt/conda/lib/python3.6/site-packages (2.4.2)\n",
      "Requirement already satisfied: bcrypt>=3.1.3 in /opt/conda/lib/python3.6/site-packages (from paramiko) (3.1.6)\n",
      "Requirement already satisfied: pyasn1>=0.1.7 in /opt/conda/lib/python3.6/site-packages (from paramiko) (0.4.5)\n",
      "Requirement already satisfied: pynacl>=1.0.1 in /opt/conda/lib/python3.6/site-packages (from paramiko) (1.3.0)\n",
      "Requirement already satisfied: cryptography>=1.5 in /opt/conda/lib/python3.6/site-packages (from paramiko) (2.3.1)\n",
      "Requirement already satisfied: six>=1.4.1 in /opt/conda/lib/python3.6/site-packages (from bcrypt>=3.1.3->paramiko) (1.12.0)\n",
      "Requirement already satisfied: cffi>=1.1 in /opt/conda/lib/python3.6/site-packages (from bcrypt>=3.1.3->paramiko) (1.11.5)\n",
      "Requirement already satisfied: idna>=2.1 in /opt/conda/lib/python3.6/site-packages (from cryptography>=1.5->paramiko) (2.8)\n",
      "Requirement already satisfied: asn1crypto>=0.21.0 in /opt/conda/lib/python3.6/site-packages (from cryptography>=1.5->paramiko) (0.24.0)\n",
      "Requirement already satisfied: pycparser in /opt/conda/lib/python3.6/site-packages (from cffi>=1.1->bcrypt>=3.1.3->paramiko) (2.19)\n"
     ]
    }
   ],
   "source": [
    "# install libraries\n",
    "!pip install gensim\n",
    "!pip install paramiko\n",
    "import numpy as np\n",
    "import pandas as pd\n",
    "import matplotlib.pyplot as plt\n",
    "from gensim import corpora\n",
    "from gensim.models import LsiModel, KeyedVectors\n",
    "import sklearn.model_selection as ms\n",
    "from sklearn.ensemble import RandomForestClassifier\n",
    "from datetime import *\n",
    "from sklearn.cluster import KMeans\n",
    "from sklearn import preprocessing\n",
    "from sklearn import metrics\n",
    "from sklearn.linear_model import LogisticRegression\n",
    "from sklearn.decomposition import PCA, NMF\n",
    "from sklearn.linear_model import Perceptron\n",
    "from sklearn.metrics import accuracy_score"
   ]
  },
  {
   "cell_type": "code",
   "execution_count": 2,
   "metadata": {},
   "outputs": [],
   "source": [
    "# read in files\n",
    "reviews_dict = corpora.Dictionary.load(\"reviews_dictionary.dict\")\n",
    "reviews_bow = corpora.MmCorpus('train_reviews.mm')\n",
    "reviews_times  = np.load('train_times.npy')\n",
    "reviews_times.shape = (len(reviews_bow),1)\n",
    "reviews_wc = corpora.MmCorpus('reviews_wordcontext.mm')\n",
    "reviews_wv = KeyedVectors.load(\"word_vectors.wv\", mmap='r')\n",
    "reviews_sppmi_300 = np.load('reviews_sppmi_300.npy')\n",
    "y = np.vstack((np.repeat(1, 4000), np.repeat(2, 4000), np.repeat(3, 4000), np.repeat(4, 4000), np.repeat(5, 4000)))\n",
    "y = np.repeat(y, 5)\n"
   ]
  },
  {
   "cell_type": "code",
   "execution_count": 3,
   "metadata": {},
   "outputs": [],
   "source": [
    "# converts integer object review times to timestamps\n",
    "converted_times = pd.Series([datetime.fromtimestamp(time) for time in reviews_times[:, 0]])"
   ]
  },
  {
   "cell_type": "markdown",
   "metadata": {},
   "source": [
    "# densify\n",
    "Input: a sparse matrix in the format of `reviews_bow` and an integer number of columns\n",
    "\n",
    "Output: a dense, term-document matrix"
   ]
  },
  {
   "cell_type": "code",
   "execution_count": 4,
   "metadata": {},
   "outputs": [],
   "source": [
    "def densify(sparse, columns):\n",
    "    dense_array = np.zeros((len(sparse), columns))\n",
    "    count = 0\n",
    "    for arr in sparse :\n",
    "        for pair in arr :\n",
    "            idx = pair[0]\n",
    "            dense_array[count][pair[0]] = pair[1]\n",
    "        count+=1\n",
    "    return dense_array"
   ]
  },
  {
   "cell_type": "markdown",
   "metadata": {},
   "source": [
    "# count_words\n",
    "Input: a dictionary in the format of `reviews_dict` above, a bag of words corpus in the format of `reviews_bow` above\n",
    "\n",
    "Output: a list called `counts` that has the total occurrences of each word in the corpus, in the order of the original word indices."
   ]
  },
  {
   "cell_type": "code",
   "execution_count": 5,
   "metadata": {},
   "outputs": [],
   "source": [
    "def count_words(gsdict, gsbow):\n",
    "    count = np.zeros((len(gsdict)), int)\n",
    "    for arr in gsbow :\n",
    "        for pair in arr :\n",
    "            count[pair[0]]+= pair[1]\n",
    "    return count"
   ]
  },
  {
   "cell_type": "code",
   "execution_count": 6,
   "metadata": {},
   "outputs": [],
   "source": [
    "# Makes the counts for the 100,000 Amazon reviews.\n",
    "reviews_counts = count_words(reviews_dict, reviews_bow)"
   ]
  },
  {
   "cell_type": "markdown",
   "metadata": {},
   "source": [
    "# word_context\n",
    "Input: \n",
    "1. a dictionary in the format of `reviews_dict` above\n",
    "2. a corpus in the format of `reviews_bow` above\n",
    "3. a window size (integer)\n",
    "\n",
    "Output: a **sparse** word-context matrix. The word-context matrix is a square matrix and the number of rows/columns is the number of words in the vocabulary/dictionary. A nonzero term in this matrix represents the number of times word $i$ appears within (and including) the window size distance of word $j$."
   ]
  },
  {
   "cell_type": "code",
   "execution_count": 7,
   "metadata": {},
   "outputs": [],
   "source": [
    "\n",
    "def word_context(gsdict, gscorpus, window):\n",
    "    wc = np.zeros((len(gsdict), len(gsdict)), int)\n",
    "    # iterate over all elements in dictionary\n",
    "    for idx, val in gsdict.items():\n",
    "        # iterate over all document arrays\n",
    "        for arr in gscorpus :            \n",
    "            if val in arr :\n",
    "                indices_to_check = []\n",
    "                for index, el in enumerate(arr) :\n",
    "                    if el == val :\n",
    "                        indices_to_check.append(index)\n",
    "                for val_idx in indices_to_check :\n",
    "                    # get max and min index, keep in bounds\n",
    "                    min_idx = max(0, val_idx - window)\n",
    "                    max_idx = min(len(arr) - 1, val_idx + window)\n",
    "                    for i in range(min_idx, max_idx + 1) :\n",
    "                        if i != val_idx :\n",
    "                            word = arr[i]\n",
    "                            word_idx = gsdict.token2id[word]\n",
    "                            wc[word_idx][idx]+=1\n",
    "    return sparsify(wc)\n",
    "\n",
    "def sparsify(wc) :\n",
    "    wc_sparse = []\n",
    "    for arr in wc :\n",
    "        curr_list = []\n",
    "        for idx, num in enumerate(arr) :\n",
    "            if num != 0 :\n",
    "                curr_list.append((idx, num))\n",
    "        wc_sparse.append(curr_list)\n",
    "    return wc_sparse"
   ]
  },
  {
   "cell_type": "markdown",
   "metadata": {},
   "source": [
    "# sppmi\n",
    "Input: \n",
    "1. a sparse word-context matrix in the format of `reviews_wc` above\n",
    "2. a counts dictionary\n",
    "3. a float `logk`\n",
    "\n",
    "Output: a new sparse word-context matrix with the values in the matrix replaced by shifted positive pointwise mutual informations ($SPPMI$). The formula is:\n",
    "\n",
    "$$SPPMI = \\max(\\log (\\frac{\\#(w,c) |D|}{\\#(w)\\#(c)}) - \\log(k), 0)$$\n",
    "\n",
    "where $\\#(w,c)$ is the count of word $w$ in context $c$, $\\#(w)$ is the count of word $w$, $\\#(c)$ is the count of word $c$, $|D|$ is the length of the corpus, and $k$ is a free hyperparameter.\n"
   ]
  },
  {
   "cell_type": "code",
   "execution_count": 8,
   "metadata": {},
   "outputs": [],
   "source": [
    "# sppmi_answer\n",
    "def sppmi(gswc, counts, logk):\n",
    "    total = 0\n",
    "    for num in counts :\n",
    "        total+=num\n",
    "    titles = []\n",
    "    for idx, arr in enumerate(gswc) :\n",
    "        curr = []\n",
    "        for pair in arr :\n",
    "            val = max(np.log( (pair[1]*total) / (counts[idx]*counts[pair[0]]) ) - logk , 0)\n",
    "            curr.append((pair[0], val))\n",
    "        titles.append(curr)\n",
    "    return titles  "
   ]
  },
  {
   "cell_type": "code",
   "execution_count": 9,
   "metadata": {},
   "outputs": [],
   "source": [
    "reviews_sppmi = sppmi(reviews_wc, reviews_counts, np.log(5))"
   ]
  },
  {
   "cell_type": "markdown",
   "metadata": {},
   "source": [
    "# reconstruction\n",
    "Input: \n",
    "1. a sparse matrix\n",
    "2. a gensim dictionary\n",
    "2. a cutoff for PCA\n",
    "\n",
    "Output: the norm of the difference of the reconstructed matrix and the original divided by the norm of the original."
   ]
  },
  {
   "cell_type": "code",
   "execution_count": 10,
   "metadata": {},
   "outputs": [],
   "source": [
    "def reconstruction(sparse, gsdict, cutoff):\n",
    "    dense_orig = densify(sparse, len(gsdict))\n",
    "    model = LsiModel(sparse, id2word=gsdict, num_topics=cutoff)\n",
    "    vector = densify(model[sparse], cutoff)\n",
    "    U = model.projection.u.transpose()\n",
    "    reconstructed = vector @ U\n",
    "    return (np.linalg.norm(dense_orig - reconstructed)) / (np.linalg.norm(dense_orig))"
   ]
  },
  {
   "cell_type": "markdown",
   "metadata": {},
   "source": [
    "# vec2doc\n",
    "Assembles a dense representation by combining our term-document matrix and the word context matrix. The appeal is that rather than reducing dimensionality by choosing a very small vocabulary, we can select relevant features from a vector space that contains all of the words. However, this requires a heavy assumption: a document representation is the sum of the representations of its words. This does not allow any non-compositionality of language (which we know there is some) and it makes each word equally important (which arguably is false as well).\n",
    "\n",
    "Input:\n",
    "1. a bag of words corpus in the format of `reviews_bow` above\n",
    "2. a list of word vectors in proper order (by dictionary index) like `reviews_wv` above\n",
    "\n",
    "Output: a dense matrix contaning one vector per document computed by summing all of the vectors corresponding to the words in the document."
   ]
  },
  {
   "cell_type": "code",
   "execution_count": 11,
   "metadata": {},
   "outputs": [],
   "source": [
    "def vec2doc(gsbow, vectors):\n",
    "    vec_doc = []\n",
    "    for idx, arr in enumerate(gsbow) : \n",
    "        vec = np.zeros((len(vectors[0])), float)\n",
    "        for pair in arr : \n",
    "            for count in range(int(pair[1])) :\n",
    "                word_vector = vectors[pair[0]]\n",
    "                vec += word_vector\n",
    "        vec_doc.append(vec)\n",
    "    vec_doc = np.array(vec_doc)\n",
    "    return vec_doc"
   ]
  },
  {
   "cell_type": "code",
   "execution_count": 12,
   "metadata": {},
   "outputs": [],
   "source": [
    "vecs_sppmi = vec2doc(reviews_bow, reviews_sppmi_300)"
   ]
  },
  {
   "cell_type": "markdown",
   "metadata": {},
   "source": [
    "# use_dict\n",
    "Input: \n",
    "1. a dictionary in the format of `reviews_dict` above\n",
    "2. `KeyedVector word2vec` embeddings, as in `reviews_wv`\n",
    "\n",
    "Output: a list of vectors indexed using the input dictionary."
   ]
  },
  {
   "cell_type": "code",
   "execution_count": 13,
   "metadata": {},
   "outputs": [],
   "source": [
    "def use_dict(gsdict, vectors):\n",
    "    indexed_vec = []\n",
    "    for word_idx in gsdict :\n",
    "        vec = np.zeros(vectors.vector_size)\n",
    "        if gsdict[word_idx] in vectors.vocab :\n",
    "            vec = vectors[gsdict[word_idx]]\n",
    "        indexed_vec.append(vec)\n",
    "    return indexed_vec"
   ]
  },
  {
   "cell_type": "code",
   "execution_count": 14,
   "metadata": {},
   "outputs": [],
   "source": [
    "reviews_sgns_300 = use_dict(reviews_dict, reviews_wv)\n",
    "vecs_sgns = vec2doc(reviews_bow, reviews_sgns_300)"
   ]
  },
  {
   "cell_type": "markdown",
   "metadata": {},
   "source": [
    "Run PCA on the $BOW$ baseline. Train a gensim `LsiModel` on `reviews_bow` using `reviews_dict` as the dictionary and 1000 components. Plot the explained variance versus number of components."
   ]
  },
  {
   "cell_type": "code",
   "execution_count": 15,
   "metadata": {},
   "outputs": [],
   "source": [
    "max_cutoff = 1000\n",
    "model = LsiModel(reviews_bow, id2word=reviews_dict, num_topics=max_cutoff)"
   ]
  },
  {
   "cell_type": "code",
   "execution_count": 16,
   "metadata": {},
   "outputs": [
    {
     "data": {
      "image/png": "[encoded data removed]",
      "text/plain": [
       "<Figure size 432x288 with 1 Axes>"
      ]
     },
     "metadata": {
      "needs_background": "light"
     },
     "output_type": "display_data"
    }
   ],
   "source": [
    "def plot_variance_vs_features(singular_values, cutoff):\n",
    "    evr = np.array([singular_values[i]**2 / sum(singular_values**2) for i in range(cutoff)])\n",
    "    var = np.cumsum(evr*100)\n",
    "    plt.ylabel('% Variance Explained')\n",
    "    plt.xlabel('# of Features')\n",
    "    plt.title('PCA Analysis')\n",
    "    plt.style.context('seaborn-whitegrid')\n",
    "    plt.plot(var)\n",
    "    \n",
    "plot_variance_vs_features(model.projection.s, max_cutoff)"
   ]
  },
  {
   "cell_type": "markdown",
   "metadata": {},
   "source": [
    "The good news is this curve is very steep in the beginning, which shows that a lot of information is conveyed in the first components. However, there is no plateau that we can use to choose a cutoff!\n",
    "\n",
    "**So, instead, we will break off a validaton set and use classifier performance to tune this hyperparameter.**"
   ]
  },
  {
   "cell_type": "code",
   "execution_count": 17,
   "metadata": {},
   "outputs": [],
   "source": [
    "# random forest classifier\n",
    "def rndm_forest(X, review_times, y):\n",
    "    X = np.hstack((X, review_times))\n",
    "    X_train, X_test, y_train, y_test = ms.train_test_split(X, y, test_size=0.2, random_state = 195)\n",
    "    rfor = RandomForestClassifier(n_estimators=51, random_state=195)\n",
    "    rfor.fit(X_train, y_train)\n",
    "    return rfor.score(X_test, y_test)"
   ]
  },
  {
   "cell_type": "code",
   "execution_count": 18,
   "metadata": {},
   "outputs": [
    {
     "name": "stdout",
     "output_type": "stream",
     "text": [
      "0.77575\n",
      "0.7404\n"
     ]
    }
   ],
   "source": [
    "rf_sppmi = rndm_forest(vecs_sppmi, reviews_times, y)\n",
    "print(rf_sppmi)\n",
    "rf_sgns = rndm_forest(vecs_sgns, reviews_times, y)\n",
    "print(rf_sgns)"
   ]
  },
  {
   "cell_type": "code",
   "execution_count": 19,
   "metadata": {},
   "outputs": [
    {
     "name": "stdout",
     "output_type": "stream",
     "text": [
      "0.8421\n",
      "0.7965666666666666\n"
     ]
    }
   ],
   "source": [
    "# logistic regression classifier\n",
    "def log_reg(X, review_times, y):\n",
    "    X = np.hstack((X, review_times))\n",
    "    scaler = preprocessing.StandardScaler()\n",
    "    X = scaler.fit_transform(X)\n",
    "    X_train, X_test, y_train, y_test = ms.train_test_split(X, y, test_size=0.3, random_state = 195)\n",
    "    logmodel = LogisticRegression(solver = 'newton-cg', multi_class = 'auto')\n",
    "    logmodel.fit(X_train,y_train)\n",
    "    predictions = logmodel.predict(X_test)\n",
    "    return logmodel.score(X_test, y_test)\n",
    "\n",
    "logreg_accuracy_ssmi = log_reg(vecs_sppmi, reviews_times, y)\n",
    "print(logreg_accuracy_ssmi)\n",
    "logreg_accuracy_sgns = log_reg(vecs_sgns, reviews_times, y)\n",
    "print(logreg_accuracy_sgns)"
   ]
  },
  {
   "cell_type": "markdown",
   "metadata": {},
   "source": [
    "Using logistic regression on vecs_sppmi provides an accuracy around 84-86%, the best performance of our 4 models. "
   ]
  },
  {
   "cell_type": "code",
   "execution_count": null,
   "metadata": {},
   "outputs": [],
   "source": []
  }
 ],
 "metadata": {
  "kernelspec": {
   "display_name": "Python 3",
   "language": "python",
   "name": "python3"
  },
  "language_info": {
   "codemirror_mode": {
    "name": "ipython",
    "version": 3
   },
   "file_extension": ".py",
   "mimetype": "text/x-python",
   "name": "python",
   "nbconvert_exporter": "python",
   "pygments_lexer": "ipython3",
   "version": "3.6.7"
  }
 },
 "nbformat": 4,
 "nbformat_minor": 2
}
