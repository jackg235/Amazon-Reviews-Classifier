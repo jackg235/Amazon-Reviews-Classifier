{
 "cells": [
  {
   "cell_type": "markdown",
   "metadata": {},
   "source": []
  },
  {
   "cell_type": "code",
   "execution_count": 1,
   "metadata": {},
   "outputs": [
    {
     "name": "stdout",
     "output_type": "stream",
     "text": [
      "Collecting gensim\n",
      "\u001b[?25l  Downloading https://files.pythonhosted.org/packages/d3/4b/19eecdf07d614665fa889857dc56ac965631c7bd816c3476d2f0cac6ea3b/gensim-3.7.3-cp36-cp36m-manylinux1_x86_64.whl (24.2MB)\n",
      "\u001b[K    100% |████████████████████████████████| 24.2MB 480kB/s ta 0:00:011    47% |███████████████▎                | 11.5MB 2.0MB/s eta 0:00:07    52% |████████████████▉               | 12.8MB 1.9MB/s eta 0:00:07    57% |██████████████████▌             | 14.0MB 1.3MB/s eta 0:00:08    59% |███████████████████             | 14.3MB 4.4MB/s eta 0:00:03    60% |███████████████████▌            | 14.8MB 1.9MB/s eta 0:00:05    67% |█████████████████████▌          | 16.3MB 5.3MB/s eta 0:00:02    76% |████████████████████████▌       | 18.6MB 1.5MB/s eta 0:00:04    85% |███████████████████████████▍    | 20.7MB 2.9MB/s eta 0:00:02    86% |███████████████████████████▌    | 20.8MB 1.1MB/s eta 0:00:04    97% |███████████████████████████████ | 23.5MB 2.7MB/s eta 0:00:01    99% |███████████████████████████████▉| 24.0MB 4.6MB/s eta 0:00:01\n",
      "\u001b[?25hRequirement already satisfied: numpy>=1.11.3 in /opt/conda/lib/python3.6/site-packages (from gensim) (1.15.4)\n",
      "Collecting smart-open>=1.7.0 (from gensim)\n",
      "\u001b[?25l  Downloading https://files.pythonhosted.org/packages/bf/ba/7eaf3c0dbe601c43d88e449dcd7b61d385fe07c0167163f63f58ece7c1b5/smart_open-1.8.3.tar.gz (60kB)\n",
      "\u001b[K    100% |████████████████████████████████| 61kB 7.4MB/s eta 0:00:01\n",
      "\u001b[?25hRequirement already satisfied: scipy>=0.18.1 in /opt/conda/lib/python3.6/site-packages (from gensim) (1.1.0)\n",
      "Requirement already satisfied: six>=1.5.0 in /opt/conda/lib/python3.6/site-packages (from gensim) (1.12.0)\n",
      "Collecting boto>=2.32 (from smart-open>=1.7.0->gensim)\n",
      "\u001b[?25l  Downloading https://files.pythonhosted.org/packages/23/10/c0b78c27298029e4454a472a1919bde20cb182dab1662cec7f2ca1dcc523/boto-2.49.0-py2.py3-none-any.whl (1.4MB)\n",
      "\u001b[K    100% |████████████████████████████████| 1.4MB 10.4MB/s ta 0:00:01   13% |████▍                           | 184kB 1.8MB/s eta 0:00:01\n",
      "\u001b[?25hRequirement already satisfied: requests in /opt/conda/lib/python3.6/site-packages (from smart-open>=1.7.0->gensim) (2.21.0)\n",
      "Collecting boto3 (from smart-open>=1.7.0->gensim)\n",
      "\u001b[?25l  Downloading https://files.pythonhosted.org/packages/f9/e5/5c138b6876b095765edacdcf4487fecd3fecb218ed08f64e65671db0d370/boto3-1.9.156-py2.py3-none-any.whl (128kB)\n",
      "\u001b[K    100% |████████████████████████████████| 133kB 1.7MB/s ta 0:00:01\n",
      "\u001b[?25hRequirement already satisfied: chardet<3.1.0,>=3.0.2 in /opt/conda/lib/python3.6/site-packages (from requests->smart-open>=1.7.0->gensim) (3.0.4)\n",
      "Requirement already satisfied: urllib3<1.25,>=1.21.1 in /opt/conda/lib/python3.6/site-packages (from requests->smart-open>=1.7.0->gensim) (1.24.1)\n",
      "Requirement already satisfied: idna<2.9,>=2.5 in /opt/conda/lib/python3.6/site-packages (from requests->smart-open>=1.7.0->gensim) (2.8)\n",
      "Requirement already satisfied: certifi>=2017.4.17 in /opt/conda/lib/python3.6/site-packages (from requests->smart-open>=1.7.0->gensim) (2018.11.29)\n",
      "Collecting botocore<1.13.0,>=1.12.156 (from boto3->smart-open>=1.7.0->gensim)\n",
      "\u001b[?25l  Downloading https://files.pythonhosted.org/packages/f5/aa/79fc47ccc3c7d0f36aafb9d85091d7d8a8f10d8ad24ccf3a89cf126b9f4e/botocore-1.12.156-py2.py3-none-any.whl (5.4MB)\n",
      "\u001b[K    100% |████████████████████████████████| 5.4MB 2.0MB/s ta 0:00:011\n",
      "\u001b[?25hCollecting s3transfer<0.3.0,>=0.2.0 (from boto3->smart-open>=1.7.0->gensim)\n",
      "\u001b[?25l  Downloading https://files.pythonhosted.org/packages/d7/de/5737f602e22073ecbded7a0c590707085e154e32b68d86545dcc31004c02/s3transfer-0.2.0-py2.py3-none-any.whl (69kB)\n",
      "\u001b[K    100% |████████████████████████████████| 71kB 6.1MB/s ta 0:00:01\n",
      "\u001b[?25hCollecting jmespath<1.0.0,>=0.7.1 (from boto3->smart-open>=1.7.0->gensim)\n",
      "  Downloading https://files.pythonhosted.org/packages/83/94/7179c3832a6d45b266ddb2aac329e101367fbdb11f425f13771d27f225bb/jmespath-0.9.4-py2.py3-none-any.whl\n",
      "Requirement already satisfied: python-dateutil<3.0.0,>=2.1; python_version >= \"2.7\" in /opt/conda/lib/python3.6/site-packages (from botocore<1.13.0,>=1.12.156->boto3->smart-open>=1.7.0->gensim) (2.7.5)\n",
      "Collecting docutils>=0.10 (from botocore<1.13.0,>=1.12.156->boto3->smart-open>=1.7.0->gensim)\n",
      "\u001b[?25l  Downloading https://files.pythonhosted.org/packages/36/fa/08e9e6e0e3cbd1d362c3bbee8d01d0aedb2155c4ac112b19ef3cae8eed8d/docutils-0.14-py3-none-any.whl (543kB)\n",
      "\u001b[K    100% |████████████████████████████████| 552kB 3.5MB/s ta 0:00:011\n",
      "\u001b[?25hBuilding wheels for collected packages: smart-open\n",
      "  Running setup.py bdist_wheel for smart-open ... \u001b[?25ldone\n",
      "\u001b[?25h  Stored in directory: /home/jovyan/.cache/pip/wheels/b8/cb/43/c0ba52baf2b0e371ec1d5b2d4685d6d24617b1391f3eeacda5\n",
      "Successfully built smart-open\n",
      "Installing collected packages: boto, jmespath, docutils, botocore, s3transfer, boto3, smart-open, gensim\n",
      "Successfully installed boto-2.49.0 boto3-1.9.156 botocore-1.12.156 docutils-0.14 gensim-3.7.3 jmespath-0.9.4 s3transfer-0.2.0 smart-open-1.8.3\n",
      "Collecting paramiko\n",
      "\u001b[?25l  Downloading https://files.pythonhosted.org/packages/cf/ae/94e70d49044ccc234bfdba20114fa947d7ba6eb68a2e452d89b920e62227/paramiko-2.4.2-py2.py3-none-any.whl (193kB)\n",
      "\u001b[K    100% |████████████████████████████████| 194kB 3.6MB/s ta 0:00:01\n",
      "\u001b[?25hRequirement already satisfied: cryptography>=1.5 in /opt/conda/lib/python3.6/site-packages (from paramiko) (2.3.1)\n",
      "Collecting bcrypt>=3.1.3 (from paramiko)\n",
      "\u001b[?25l  Downloading https://files.pythonhosted.org/packages/d0/79/79a4d167a31cc206117d9b396926615fa9c1fdbd52017bcced80937ac501/bcrypt-3.1.6-cp34-abi3-manylinux1_x86_64.whl (55kB)\n",
      "\u001b[K    100% |████████████████████████████████| 61kB 8.7MB/s eta 0:00:01\n",
      "\u001b[?25hCollecting pynacl>=1.0.1 (from paramiko)\n",
      "\u001b[?25l  Downloading https://files.pythonhosted.org/packages/27/15/2cd0a203f318c2240b42cd9dd13c931ddd61067809fee3479f44f086103e/PyNaCl-1.3.0-cp34-abi3-manylinux1_x86_64.whl (759kB)\n",
      "\u001b[K    100% |████████████████████████████████| 768kB 5.9MB/s ta 0:00:01\n",
      "\u001b[?25hCollecting pyasn1>=0.1.7 (from paramiko)\n",
      "\u001b[?25l  Downloading https://files.pythonhosted.org/packages/7b/7c/c9386b82a25115cccf1903441bba3cbadcfae7b678a20167347fa8ded34c/pyasn1-0.4.5-py2.py3-none-any.whl (73kB)\n",
      "\u001b[K    100% |████████████████████████████████| 81kB 6.1MB/s ta 0:00:011\n",
      "\u001b[?25hRequirement already satisfied: idna>=2.1 in /opt/conda/lib/python3.6/site-packages (from cryptography>=1.5->paramiko) (2.8)\n",
      "Requirement already satisfied: asn1crypto>=0.21.0 in /opt/conda/lib/python3.6/site-packages (from cryptography>=1.5->paramiko) (0.24.0)\n",
      "Requirement already satisfied: six>=1.4.1 in /opt/conda/lib/python3.6/site-packages (from cryptography>=1.5->paramiko) (1.12.0)\n",
      "Requirement already satisfied: cffi!=1.11.3,>=1.7 in /opt/conda/lib/python3.6/site-packages (from cryptography>=1.5->paramiko) (1.11.5)\n",
      "Requirement already satisfied: pycparser in /opt/conda/lib/python3.6/site-packages (from cffi!=1.11.3,>=1.7->cryptography>=1.5->paramiko) (2.19)\n",
      "Installing collected packages: bcrypt, pynacl, pyasn1, paramiko\n",
      "Successfully installed bcrypt-3.1.6 paramiko-2.4.2 pyasn1-0.4.5 pynacl-1.3.0\n"
     ]
    }
   ],
   "source": [
    "!pip install gensim\n",
    "!pip install paramiko\n",
    "import numpy as np\n",
    "import pandas as pd\n",
    "import matplotlib.pyplot as plt\n",
    "from gensim import corpora\n",
    "from gensim.models import LsiModel, KeyedVectors\n",
    "import sklearn.model_selection as ms\n",
    "from sklearn.ensemble import RandomForestClassifier\n",
    "from datetime import *\n",
    "from sklearn.cluster import KMeans\n",
    "from sklearn import preprocessing\n",
    "from sklearn import metrics\n",
    "from sklearn.linear_model import LogisticRegression\n",
    "from sklearn.decomposition import PCA, NMF\n",
    "from sklearn.linear_model import Perceptron\n",
    "from sklearn.metrics import accuracy_score"
   ]
  },
  {
   "cell_type": "code",
   "execution_count": 12,
   "metadata": {},
   "outputs": [],
   "source": [
    "# read in files\n",
    "reviews_dict = corpora.Dictionary.load(\"reviews_dictionary.dict\")\n",
    "reviews_bow = corpora.MmCorpus('train_reviews.mm')\n",
    "reviews_times  = np.load('train_times.npy')\n",
    "reviews_times.shape = (len(reviews_bow),1)\n",
    "reviews_wc = corpora.MmCorpus('reviews_wordcontext.mm')\n",
    "reviews_wv = KeyedVectors.load(\"word_vectors.wv\", mmap='r')\n",
    "reviews_sppmi_300 = np.load('reviews_sppmi_300.npy')\n",
    "y = np.vstack((np.repeat(1, 4000), np.repeat(2, 4000), np.repeat(3, 4000), np.repeat(4, 4000), np.repeat(5, 4000)))\n",
    "y = np.repeat(y, 5)\n"
   ]
  },
  {
   "cell_type": "code",
   "execution_count": 13,
   "metadata": {},
   "outputs": [],
   "source": [
    "converted_times = pd.Series([datetime.fromtimestamp(time) for time in reviews_times[:, 0]])"
   ]
  },
  {
   "cell_type": "code",
   "execution_count": 14,
   "metadata": {},
   "outputs": [],
   "source": [
    "def densify(sparse, columns):\n",
    "    dense_array = np.zeros((len(sparse), columns))\n",
    "    count = 0\n",
    "    for arr in sparse :\n",
    "        for pair in arr :\n",
    "            idx = pair[0]\n",
    "            dense_array[count][pair[0]] = pair[1]\n",
    "        count+=1\n",
    "    return dense_array"
   ]
  },
  {
   "cell_type": "code",
   "execution_count": 15,
   "metadata": {},
   "outputs": [],
   "source": [
    "def count_words(gsdict, gsbow):\n",
    "    count = np.zeros((len(gsdict)), int)\n",
    "    for arr in gsbow :\n",
    "        for pair in arr :\n",
    "            count[pair[0]]+= pair[1]\n",
    "    return count"
   ]
  },
  {
   "cell_type": "code",
   "execution_count": 22,
   "metadata": {},
   "outputs": [],
   "source": [
    "reviews_counts = count_words(reviews_dict, reviews_bow)"
   ]
  },
  {
   "cell_type": "code",
   "execution_count": 23,
   "metadata": {},
   "outputs": [],
   "source": [
    "# word_context_answer\n",
    "def word_context(gsdict, gscorpus, window):\n",
    "    wc = np.zeros((len(gsdict), len(gsdict)), int)\n",
    "    # iterate over all elements in dictionary\n",
    "    for idx, val in gsdict.items():\n",
    "        # iterate over all document arrays\n",
    "        for arr in gscorpus :            \n",
    "            if val in arr :\n",
    "                indices_to_check = []\n",
    "                for index, el in enumerate(arr) :\n",
    "                    if el == val :\n",
    "                        indices_to_check.append(index)\n",
    "                for val_idx in indices_to_check :\n",
    "                    # get max and min index, keep in bounds\n",
    "                    min_idx = max(0, val_idx - window)\n",
    "                    max_idx = min(len(arr) - 1, val_idx + window)\n",
    "                    for i in range(min_idx, max_idx + 1) :\n",
    "                        if i != val_idx :\n",
    "                            word = arr[i]\n",
    "                            word_idx = gsdict.token2id[word]\n",
    "                            wc[word_idx][idx]+=1\n",
    "    return sparsify(wc)\n",
    "\n",
    "def sparsify(wc) :\n",
    "    wc_sparse = []\n",
    "    for arr in wc :\n",
    "        curr_list = []\n",
    "        for idx, num in enumerate(arr) :\n",
    "            if num != 0 :\n",
    "                curr_list.append((idx, num))\n",
    "        wc_sparse.append(curr_list)\n",
    "    return wc_sparse"
   ]
  },
  {
   "cell_type": "code",
   "execution_count": 24,
   "metadata": {},
   "outputs": [],
   "source": [
    "# sppmi_answer\n",
    "def sppmi(gswc, counts, logk):\n",
    "    total = 0\n",
    "    for num in counts :\n",
    "        total+=num\n",
    "    titles = []\n",
    "    for idx, arr in enumerate(gswc) :\n",
    "        curr = []\n",
    "        for pair in arr :\n",
    "            val = max(np.log( (pair[1]*total) / (counts[idx]*counts[pair[0]]) ) - logk , 0)\n",
    "            curr.append((pair[0], val))\n",
    "        titles.append(curr)\n",
    "    return titles  "
   ]
  },
  {
   "cell_type": "code",
   "execution_count": 25,
   "metadata": {},
   "outputs": [],
   "source": [
    "reviews_sppmi = sppmi(reviews_wc, reviews_counts, np.log(5))"
   ]
  },
  {
   "cell_type": "code",
   "execution_count": 18,
   "metadata": {},
   "outputs": [],
   "source": [
    "def reconstruction(sparse, gsdict, cutoff):\n",
    "    dense_orig = densify(sparse, len(gsdict))\n",
    "    model = LsiModel(sparse, id2word=gsdict, num_topics=cutoff)\n",
    "    vector = densify(model[sparse], cutoff)\n",
    "    U = model.projection.u.transpose()\n",
    "    reconstructed = vector @ U\n",
    "    return (np.linalg.norm(dense_orig - reconstructed)) / (np.linalg.norm(dense_orig))\n",
    " \n",
    "cutoff = 2"
   ]
  },
  {
   "cell_type": "code",
   "execution_count": 19,
   "metadata": {},
   "outputs": [],
   "source": [
    "def vec2doc(gsbow, vectors):\n",
    "    vec_doc = []\n",
    "    for idx, arr in enumerate(gsbow) : \n",
    "        vec = np.zeros((len(vectors[0])), float)\n",
    "        for pair in arr : \n",
    "            for count in range(int(pair[1])) :\n",
    "                word_vector = vectors[pair[0]]\n",
    "                vec += word_vector\n",
    "        vec_doc.append(vec)\n",
    "    vec_doc = np.array(vec_doc)\n",
    "    return vec_doc"
   ]
  },
  {
   "cell_type": "code",
   "execution_count": 20,
   "metadata": {},
   "outputs": [],
   "source": [
    "vecs_sppmi = vec2doc(reviews_bow, reviews_sppmi_300)"
   ]
  },
  {
   "cell_type": "code",
   "execution_count": 26,
   "metadata": {},
   "outputs": [],
   "source": [
    "def use_dict(gsdict, vectors):\n",
    "    indexed_vec = []\n",
    "    for word_idx in gsdict :\n",
    "        vec = np.zeros(vectors.vector_size)\n",
    "        if gsdict[word_idx] in vectors.vocab :\n",
    "            vec = vectors[gsdict[word_idx]]\n",
    "        indexed_vec.append(vec)\n",
    "    return indexed_vec"
   ]
  },
  {
   "cell_type": "code",
   "execution_count": 27,
   "metadata": {},
   "outputs": [],
   "source": [
    "reviews_sgns_300 = use_dict(reviews_dict, reviews_wv)\n",
    "vecs_sgns = vec2doc(reviews_bow, reviews_sgns_300)"
   ]
  },
  {
   "cell_type": "code",
   "execution_count": 28,
   "metadata": {},
   "outputs": [],
   "source": [
    "max_cutoff = 1000\n",
    "model = LsiModel(reviews_bow, id2word=reviews_dict, num_topics=max_cutoff)"
   ]
  },
  {
   "cell_type": "code",
   "execution_count": 29,
   "metadata": {},
   "outputs": [
    {
     "data": {
      "image/png": "[encoded data removed]",
      "text/plain": [
       "<Figure size 432x288 with 1 Axes>"
      ]
     },
     "metadata": {
      "needs_background": "light"
     },
     "output_type": "display_data"
    }
   ],
   "source": [
    "def plot_variance_vs_features(singular_values, cutoff):\n",
    "    evr = np.array([singular_values[i]**2 / sum(singular_values**2) for i in range(cutoff)])\n",
    "    var = np.cumsum(evr*100)\n",
    "    plt.ylabel('% Variance Explained')\n",
    "    plt.xlabel('# of Features')\n",
    "    plt.title('PCA Analysis')\n",
    "    plt.style.context('seaborn-whitegrid')\n",
    "    plt.plot(var)\n",
    "    \n",
    "plot_variance_vs_features(model.projection.s, max_cutoff)"
   ]
  },
  {
   "cell_type": "code",
   "execution_count": 30,
   "metadata": {},
   "outputs": [],
   "source": [
    "def evaluate_model(X, review_times, y):\n",
    "    X = np.hstack((X, review_times))\n",
    "    X_train, X_test, y_train, y_test = ms.train_test_split(X, y, test_size=0.2, random_state = 195)\n",
    "    rfor = RandomForestClassifier(n_estimators=51, random_state=195)\n",
    "    rfor.fit(X_train, y_train)\n",
    "    return rfor.score(X_test, y_test)"
   ]
  },
  {
   "cell_type": "code",
   "execution_count": 31,
   "metadata": {},
   "outputs": [
    {
     "name": "stdout",
     "output_type": "stream",
     "text": [
      "0.77575\n",
      "0.7404\n"
     ]
    }
   ],
   "source": [
    "final_sppmi = evaluate_model(vecs_sppmi, reviews_times, y)\n",
    "print(final_sppmi)\n",
    "final_sgns = evaluate_model(vecs_sgns, reviews_times, y)\n",
    "print(final_sgns)"
   ]
  },
  {
   "cell_type": "code",
   "execution_count": 33,
   "metadata": {},
   "outputs": [
    {
     "name": "stderr",
     "output_type": "stream",
     "text": [
      "/opt/conda/lib/python3.6/site-packages/sklearn/linear_model/logistic.py:433: FutureWarning: Default solver will be changed to 'lbfgs' in 0.22. Specify a solver to silence this warning.\n",
      "  FutureWarning)\n",
      "/opt/conda/lib/python3.6/site-packages/sklearn/linear_model/logistic.py:460: FutureWarning: Default multi_class will be changed to 'auto' in 0.22. Specify the multi_class option to silence this warning.\n",
      "  \"this warning.\", FutureWarning)\n"
     ]
    },
    {
     "name": "stdout",
     "output_type": "stream",
     "text": [
      "0.8459\n"
     ]
    },
    {
     "name": "stderr",
     "output_type": "stream",
     "text": [
      "/opt/conda/lib/python3.6/site-packages/sklearn/linear_model/logistic.py:433: FutureWarning: Default solver will be changed to 'lbfgs' in 0.22. Specify a solver to silence this warning.\n",
      "  FutureWarning)\n",
      "/opt/conda/lib/python3.6/site-packages/sklearn/linear_model/logistic.py:460: FutureWarning: Default multi_class will be changed to 'auto' in 0.22. Specify the multi_class option to silence this warning.\n",
      "  \"this warning.\", FutureWarning)\n"
     ]
    },
    {
     "name": "stdout",
     "output_type": "stream",
     "text": [
      "0.7975\n"
     ]
    }
   ],
   "source": [
    "def classify(X, review_times, y):\n",
    "    X = np.hstack((X, review_times))\n",
    "    scaler = preprocessing.StandardScaler()\n",
    "    X = scaler.fit_transform(X)\n",
    "    X_train, X_test, y_train, y_test = ms.train_test_split(X, y, test_size=0.3, random_state = 195)\n",
    "    logmodel = LogisticRegression()\n",
    "    logmodel.fit(X_train,y_train)\n",
    "    predictions = logmodel.predict(X_test)\n",
    "    return logmodel.score(X_test, y_test)\n",
    "\n",
    "classify_accuracy_ssmi = classify(vecs_sppmi, reviews_times, y)\n",
    "print(classify_accuracy_ssmi)\n",
    "classify_accuracy_sgns = classify(vecs_sgns, reviews_times, y)\n",
    "print(classify_accuracy_sgns)"
   ]
  },
  {
   "cell_type": "code",
   "execution_count": null,
   "metadata": {},
   "outputs": [],
   "source": []
  }
 ],
 "metadata": {
  "kernelspec": {
   "display_name": "Python 3",
   "language": "python",
   "name": "python3"
  },
  "language_info": {
   "codemirror_mode": {
    "name": "ipython",
    "version": 3
   },
   "file_extension": ".py",
   "mimetype": "text/x-python",
   "name": "python",
   "nbconvert_exporter": "python",
   "pygments_lexer": "ipython3",
   "version": "3.6.7"
  }
 },
 "nbformat": 4,
 "nbformat_minor": 2
}
